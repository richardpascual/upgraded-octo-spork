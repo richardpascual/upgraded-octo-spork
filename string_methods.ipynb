{
 "cells": [
  {
   "attachments": {},
   "cell_type": "markdown",
   "metadata": {},
   "source": [
    "String Methods"
   ]
  },
  {
   "cell_type": "code",
   "execution_count": 14,
   "metadata": {},
   "outputs": [
    {
     "name": "stdout",
     "output_type": "stream",
     "text": [
      "Number of Py occurence 1\n",
      "Number of py occurence 0\n",
      "Index of py -1\n",
      "Index of py -1\n",
      "Index of o 4\n",
      "Index of o 9\n",
      "Index of o 4\n",
      "on\n"
     ]
    }
   ],
   "source": [
    "string1 = 'Python Programming COMSC140'\n",
    "substring1 = 'Py'\n",
    "substring2 = 'py'\n",
    "\n",
    "#count is case-sensitive\n",
    "\n",
    "cnt = string1.count(substring1)\n",
    "print (\"Number of {1} occurence {0}\".format(cnt, substring1))\n",
    "\n",
    "cnt = string1.count(substring2)\n",
    "print (\"Number of {1} occurence {0}\".format(cnt, substring2))\n",
    "\n",
    "\n",
    "#find method\n",
    "\n",
    "idx = string1.find('py')\n",
    "print ('Index of py', idx)\n",
    "\n",
    "idx = string1.find(substring1, 8)\n",
    "print ('Index of py', idx)\n",
    "\n",
    "# First instance of substring in string1 starting at idx = 0\n",
    "\n",
    "idx = string1.find('o')\n",
    "print ('Index of o', idx)\n",
    "\n",
    "# First instance of substring in string1 starting at idx = 5\n",
    "\n",
    "idx = string1.find('o', 5)\n",
    "print ('Index of o', idx)\n",
    "\n",
    "# First instance of substring in string1 starting at idx = 3\n",
    "\n",
    "idx = string1.find('o', 3)\n",
    "print ('Index of o', idx)\n",
    "\n",
    "print (string1[idx:idx+len(substring1)])\n"
   ]
  },
  {
   "attachments": {},
   "cell_type": "markdown",
   "metadata": {},
   "source": [
    "String Find\n",
    "String find() method returns the lowest index or first occurrence of the substring if it is found in a given string. If it is not found, then it returns -1.\n",
    "\n",
    "Syntax: str_obj.find(sub, start, end)\n",
    "\n",
    "Parameters: \n",
    "\n",
    "sub: Substring that needs to be searched in the given string. \n",
    "start (optional): Starting position where the substring needs to be checked within the string. \n",
    "end (optional): End position is the index of the last value for the specified range. It is excluded while checking. \n",
    "Return:  Returns the lowest index of the substring if it is found in a given string. If it’s not found then it returns -1.\n",
    "\n",
    "https://www.geeksforgeeks.org/python-string-find/\n",
    "\n",
    "Note that the first character in an index (string position) is 0 and not found is -1\n"
   ]
  }
 ],
 "metadata": {
  "kernelspec": {
   "display_name": "Python 3",
   "language": "python",
   "name": "python3"
  },
  "language_info": {
   "codemirror_mode": {
    "name": "ipython",
    "version": 3
   },
   "file_extension": ".py",
   "mimetype": "text/x-python",
   "name": "python",
   "nbconvert_exporter": "python",
   "pygments_lexer": "ipython3",
   "version": "3.10.11"
  },
  "orig_nbformat": 4
 },
 "nbformat": 4,
 "nbformat_minor": 2
}
